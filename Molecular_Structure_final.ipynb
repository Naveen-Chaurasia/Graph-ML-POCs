{
 "cells": [
  {
   "cell_type": "markdown",
   "metadata": {},
   "source": [
    "# Chemical Structure of Molecules present in GRPF."
   ]
  },
  {
   "cell_type": "code",
   "execution_count": 4,
   "metadata": {},
   "outputs": [
    {
     "name": "stdout",
     "output_type": "stream",
     "text": [
      "Requirement already satisfied: mols2grid in c:\\users\\navee\\anaconda3\\lib\\site-packages (1.0.0)\n",
      "Requirement already satisfied: numpy in c:\\users\\navee\\anaconda3\\lib\\site-packages (from mols2grid) (1.19.2)\n",
      "Requirement already satisfied: ipywidgets<8,>=7 in c:\\users\\navee\\anaconda3\\lib\\site-packages (from mols2grid) (7.5.1)\n",
      "Requirement already satisfied: pandas in c:\\users\\navee\\anaconda3\\lib\\site-packages (from mols2grid) (1.1.3)\n",
      "Requirement already satisfied: jinja2>=2.11.0 in c:\\users\\navee\\anaconda3\\lib\\site-packages (from mols2grid) (2.11.2)\n",
      "Requirement already satisfied: widgetsnbextension~=3.5.0 in c:\\users\\navee\\anaconda3\\lib\\site-packages (from ipywidgets<8,>=7->mols2grid) (3.5.1)\n",
      "Requirement already satisfied: ipykernel>=4.5.1 in c:\\users\\navee\\anaconda3\\lib\\site-packages (from ipywidgets<8,>=7->mols2grid) (5.3.4)"
     ]
    },
    {
     "name": "stderr",
     "output_type": "stream",
     "text": [
      "WARNING: Ignoring invalid distribution -ensorflow-gpu (c:\\users\\navee\\appdata\\roaming\\python\\python38\\site-packages)\n",
      "WARNING: Ignoring invalid distribution -ensorflow-gpu (c:\\users\\navee\\appdata\\roaming\\python\\python38\\site-packages)\n",
      "WARNING: Ignoring invalid distribution -ensorflow-gpu (c:\\users\\navee\\appdata\\roaming\\python\\python38\\site-packages)\n",
      "WARNING: Ignoring invalid distribution -ensorflow-gpu (c:\\users\\navee\\appdata\\roaming\\python\\python38\\site-packages)\n",
      "WARNING: Ignoring invalid distribution -ensorflow-gpu (c:\\users\\navee\\appdata\\roaming\\python\\python38\\site-packages)\n",
      "WARNING: Ignoring invalid distribution -ensorflow-gpu (c:\\users\\navee\\appdata\\roaming\\python\\python38\\site-packages)\n"
     ]
    },
    {
     "name": "stdout",
     "output_type": "stream",
     "text": [
      "\n",
      "Requirement already satisfied: traitlets>=4.3.1 in c:\\users\\navee\\anaconda3\\lib\\site-packages (from ipywidgets<8,>=7->mols2grid) (5.0.5)\n",
      "Requirement already satisfied: nbformat>=4.2.0 in c:\\users\\navee\\anaconda3\\lib\\site-packages (from ipywidgets<8,>=7->mols2grid) (5.0.8)\n",
      "Requirement already satisfied: ipython>=4.0.0 in c:\\users\\navee\\anaconda3\\lib\\site-packages (from ipywidgets<8,>=7->mols2grid) (7.19.0)\n",
      "Requirement already satisfied: MarkupSafe>=0.23 in c:\\users\\navee\\anaconda3\\lib\\site-packages (from jinja2>=2.11.0->mols2grid) (1.1.1)\n",
      "Requirement already satisfied: pytz>=2017.2 in c:\\users\\navee\\anaconda3\\lib\\site-packages (from pandas->mols2grid) (2020.1)\n",
      "Requirement already satisfied: python-dateutil>=2.7.3 in c:\\users\\navee\\anaconda3\\lib\\site-packages (from pandas->mols2grid) (2.8.1)\n",
      "Requirement already satisfied: jupyter-client in c:\\users\\navee\\anaconda3\\lib\\site-packages (from ipykernel>=4.5.1->ipywidgets<8,>=7->mols2grid) (6.1.7)\n",
      "Requirement already satisfied: tornado>=4.2 in c:\\users\\navee\\anaconda3\\lib\\site-packages (from ipykernel>=4.5.1->ipywidgets<8,>=7->mols2grid) (6.0.4)\n",
      "Requirement already satisfied: pickleshare in c:\\users\\navee\\anaconda3\\lib\\site-packages (from ipython>=4.0.0->ipywidgets<8,>=7->mols2grid) (0.7.5)\n",
      "Requirement already satisfied: pygments in c:\\users\\navee\\anaconda3\\lib\\site-packages (from ipython>=4.0.0->ipywidgets<8,>=7->mols2grid) (2.7.2)\n",
      "Requirement already satisfied: decorator in c:\\users\\navee\\anaconda3\\lib\\site-packages (from ipython>=4.0.0->ipywidgets<8,>=7->mols2grid) (4.4.2)\n",
      "Requirement already satisfied: prompt-toolkit!=3.0.0,!=3.0.1,<3.1.0,>=2.0.0 in c:\\users\\navee\\anaconda3\\lib\\site-packages (from ipython>=4.0.0->ipywidgets<8,>=7->mols2grid) (3.0.8)\n",
      "Requirement already satisfied: jedi>=0.10 in c:\\users\\navee\\anaconda3\\lib\\site-packages (from ipython>=4.0.0->ipywidgets<8,>=7->mols2grid) (0.17.1)\n",
      "Requirement already satisfied: colorama in c:\\users\\navee\\anaconda3\\lib\\site-packages (from ipython>=4.0.0->ipywidgets<8,>=7->mols2grid) (0.4.4)\n",
      "Requirement already satisfied: setuptools>=18.5 in c:\\users\\navee\\anaconda3\\lib\\site-packages (from ipython>=4.0.0->ipywidgets<8,>=7->mols2grid) (50.3.1.post20201107)\n",
      "Requirement already satisfied: backcall in c:\\users\\navee\\anaconda3\\lib\\site-packages (from ipython>=4.0.0->ipywidgets<8,>=7->mols2grid) (0.2.0)\n",
      "Requirement already satisfied: ipython-genutils in c:\\users\\navee\\anaconda3\\lib\\site-packages (from nbformat>=4.2.0->ipywidgets<8,>=7->mols2grid) (0.2.0)\n",
      "Requirement already satisfied: jupyter-core in c:\\users\\navee\\anaconda3\\lib\\site-packages (from nbformat>=4.2.0->ipywidgets<8,>=7->mols2grid) (4.6.3)\n",
      "Requirement already satisfied: jsonschema!=2.5.0,>=2.4 in c:\\users\\navee\\anaconda3\\lib\\site-packages (from nbformat>=4.2.0->ipywidgets<8,>=7->mols2grid) (3.2.0)\n",
      "Requirement already satisfied: six>=1.5 in c:\\users\\navee\\anaconda3\\lib\\site-packages (from python-dateutil>=2.7.3->pandas->mols2grid) (1.15.0)\n",
      "Requirement already satisfied: notebook>=4.4.1 in c:\\users\\navee\\anaconda3\\lib\\site-packages (from widgetsnbextension~=3.5.0->ipywidgets<8,>=7->mols2grid) (6.1.4)\n",
      "Requirement already satisfied: parso<0.8.0,>=0.7.0 in c:\\users\\navee\\anaconda3\\lib\\site-packages (from jedi>=0.10->ipython>=4.0.0->ipywidgets<8,>=7->mols2grid) (0.7.0)\n",
      "Requirement already satisfied: pyrsistent>=0.14.0 in c:\\users\\navee\\anaconda3\\lib\\site-packages (from jsonschema!=2.5.0,>=2.4->nbformat>=4.2.0->ipywidgets<8,>=7->mols2grid) (0.17.3)\n",
      "Requirement already satisfied: attrs>=17.4.0 in c:\\users\\navee\\anaconda3\\lib\\site-packages (from jsonschema!=2.5.0,>=2.4->nbformat>=4.2.0->ipywidgets<8,>=7->mols2grid) (20.3.0)\n",
      "Requirement already satisfied: nbconvert in c:\\users\\navee\\anaconda3\\lib\\site-packages (from notebook>=4.4.1->widgetsnbextension~=3.5.0->ipywidgets<8,>=7->mols2grid) (6.0.7)\n",
      "Requirement already satisfied: terminado>=0.8.3 in c:\\users\\navee\\anaconda3\\lib\\site-packages (from notebook>=4.4.1->widgetsnbextension~=3.5.0->ipywidgets<8,>=7->mols2grid) (0.9.1)\n",
      "Requirement already satisfied: Send2Trash in c:\\users\\navee\\anaconda3\\lib\\site-packages (from notebook>=4.4.1->widgetsnbextension~=3.5.0->ipywidgets<8,>=7->mols2grid) (1.5.0)\n",
      "Requirement already satisfied: argon2-cffi in c:\\users\\navee\\anaconda3\\lib\\site-packages (from notebook>=4.4.1->widgetsnbextension~=3.5.0->ipywidgets<8,>=7->mols2grid) (20.1.0)\n",
      "Requirement already satisfied: pyzmq>=17 in c:\\users\\navee\\anaconda3\\lib\\site-packages (from notebook>=4.4.1->widgetsnbextension~=3.5.0->ipywidgets<8,>=7->mols2grid) (19.0.2)\n",
      "Requirement already satisfied: prometheus-client in c:\\users\\navee\\anaconda3\\lib\\site-packages (from notebook>=4.4.1->widgetsnbextension~=3.5.0->ipywidgets<8,>=7->mols2grid) (0.8.0)\n",
      "Requirement already satisfied: pywin32>=1.0 in c:\\users\\navee\\anaconda3\\lib\\site-packages (from jupyter-core->nbformat>=4.2.0->ipywidgets<8,>=7->mols2grid) (227)\n",
      "Requirement already satisfied: wcwidth in c:\\users\\navee\\anaconda3\\lib\\site-packages (from prompt-toolkit!=3.0.0,!=3.0.1,<3.1.0,>=2.0.0->ipython>=4.0.0->ipywidgets<8,>=7->mols2grid) (0.2.5)\n",
      "Requirement already satisfied: pywinpty>=0.5 in c:\\users\\navee\\anaconda3\\lib\\site-packages (from terminado>=0.8.3->notebook>=4.4.1->widgetsnbextension~=3.5.0->ipywidgets<8,>=7->mols2grid) (0.5.7)\n",
      "Requirement already satisfied: cffi>=1.0.0 in c:\\users\\navee\\anaconda3\\lib\\site-packages (from argon2-cffi->notebook>=4.4.1->widgetsnbextension~=3.5.0->ipywidgets<8,>=7->mols2grid) (1.14.3)\n",
      "Requirement already satisfied: pandocfilters>=1.4.1 in c:\\users\\navee\\anaconda3\\lib\\site-packages (from nbconvert->notebook>=4.4.1->widgetsnbextension~=3.5.0->ipywidgets<8,>=7->mols2grid) (1.4.3)\n",
      "Requirement already satisfied: bleach in c:\\users\\navee\\anaconda3\\lib\\site-packages (from nbconvert->notebook>=4.4.1->widgetsnbextension~=3.5.0->ipywidgets<8,>=7->mols2grid) (3.2.1)\n",
      "Requirement already satisfied: defusedxml in c:\\users\\navee\\anaconda3\\lib\\site-packages (from nbconvert->notebook>=4.4.1->widgetsnbextension~=3.5.0->ipywidgets<8,>=7->mols2grid) (0.6.0)\n",
      "Requirement already satisfied: mistune<2,>=0.8.1 in c:\\users\\navee\\anaconda3\\lib\\site-packages (from nbconvert->notebook>=4.4.1->widgetsnbextension~=3.5.0->ipywidgets<8,>=7->mols2grid) (0.8.4)\n",
      "Requirement already satisfied: jupyterlab-pygments in c:\\users\\navee\\anaconda3\\lib\\site-packages (from nbconvert->notebook>=4.4.1->widgetsnbextension~=3.5.0->ipywidgets<8,>=7->mols2grid) (0.1.2)\n",
      "Requirement already satisfied: testpath in c:\\users\\navee\\anaconda3\\lib\\site-packages (from nbconvert->notebook>=4.4.1->widgetsnbextension~=3.5.0->ipywidgets<8,>=7->mols2grid) (0.4.4)\n",
      "Requirement already satisfied: entrypoints>=0.2.2 in c:\\users\\navee\\anaconda3\\lib\\site-packages (from nbconvert->notebook>=4.4.1->widgetsnbextension~=3.5.0->ipywidgets<8,>=7->mols2grid) (0.3)\n",
      "Requirement already satisfied: nbclient<0.6.0,>=0.5.0 in c:\\users\\navee\\anaconda3\\lib\\site-packages (from nbconvert->notebook>=4.4.1->widgetsnbextension~=3.5.0->ipywidgets<8,>=7->mols2grid) (0.5.1)\n",
      "Requirement already satisfied: pycparser in c:\\users\\navee\\anaconda3\\lib\\site-packages (from cffi>=1.0.0->argon2-cffi->notebook>=4.4.1->widgetsnbextension~=3.5.0->ipywidgets<8,>=7->mols2grid) (2.20)\n",
      "Requirement already satisfied: nest-asyncio in c:\\users\\navee\\anaconda3\\lib\\site-packages (from nbclient<0.6.0,>=0.5.0->nbconvert->notebook>=4.4.1->widgetsnbextension~=3.5.0->ipywidgets<8,>=7->mols2grid) (1.4.2)\n",
      "Requirement already satisfied: async-generator in c:\\users\\navee\\anaconda3\\lib\\site-packages (from nbclient<0.6.0,>=0.5.0->nbconvert->notebook>=4.4.1->widgetsnbextension~=3.5.0->ipywidgets<8,>=7->mols2grid) (1.10)\n",
      "Requirement already satisfied: packaging in c:\\users\\navee\\anaconda3\\lib\\site-packages (from bleach->nbconvert->notebook>=4.4.1->widgetsnbextension~=3.5.0->ipywidgets<8,>=7->mols2grid) (20.4)\n",
      "Requirement already satisfied: webencodings in c:\\users\\navee\\anaconda3\\lib\\site-packages (from bleach->nbconvert->notebook>=4.4.1->widgetsnbextension~=3.5.0->ipywidgets<8,>=7->mols2grid) (0.5.1)\n",
      "Requirement already satisfied: pyparsing>=2.0.2 in c:\\users\\navee\\anaconda3\\lib\\site-packages (from packaging->bleach->nbconvert->notebook>=4.4.1->widgetsnbextension~=3.5.0->ipywidgets<8,>=7->mols2grid) (2.4.7)\n",
      "\n",
      "[notice] A new release of pip available: 22.1.2 -> 22.2.2\n",
      "[notice] To update, run: python.exe -m pip install --upgrade pip\n",
      "\n",
      "[notice] A new release of pip available: 22.1.2 -> 22.2.2"
     ]
    },
    {
     "name": "stderr",
     "output_type": "stream",
     "text": [
      "WARNING: Ignoring invalid distribution -ensorflow-gpu (c:\\users\\navee\\appdata\\roaming\\python\\python38\\site-packages)\n",
      "WARNING: Ignoring invalid distribution -ensorflow-gpu (c:\\users\\navee\\appdata\\roaming\\python\\python38\\site-packages)\n",
      "WARNING: Retrying (Retry(total=4, connect=None, read=None, redirect=None, status=None)) after connection broken by 'NewConnectionError('<pip._vendor.urllib3.connection.HTTPSConnection object at 0x0000023B2388AA00>: Failed to establish a new connection: [Errno 11001] getaddrinfo failed')': /simple/rdkit/\n",
      "WARNING: Retrying (Retry(total=3, connect=None, read=None, redirect=None, status=None)) after connection broken by 'NewConnectionError('<pip._vendor.urllib3.connection.HTTPSConnection object at 0x0000023B2388ACD0>: Failed to establish a new connection: [Errno 11001] getaddrinfo failed')': /simple/rdkit/\n",
      "WARNING: Retrying (Retry(total=2, connect=None, read=None, redirect=None, status=None)) after connection broken by 'NewConnectionError('<pip._vendor.urllib3.connection.HTTPSConnection object at 0x0000023B2388AE80>: Failed to establish a new connection: [Errno 11001] getaddrinfo failed')': /simple/rdkit/\n",
      "WARNING: Retrying (Retry(total=1, connect=None, read=None, redirect=None, status=None)) after connection broken by 'NewConnectionError('<pip._vendor.urllib3.connection.HTTPSConnection object at 0x0000023B2388AF70>: Failed to establish a new connection: [Errno 11001] getaddrinfo failed')': /simple/rdkit/\n",
      "WARNING: Retrying (Retry(total=0, connect=None, read=None, redirect=None, status=None)) after connection broken by 'NewConnectionError('<pip._vendor.urllib3.connection.HTTPSConnection object at 0x0000023B238AC220>: Failed to establish a new connection: [Errno 11001] getaddrinfo failed')': /simple/rdkit/\n",
      "ERROR: Could not find a version that satisfies the requirement rdkit (from versions: none)\n",
      "ERROR: No matching distribution found for rdkit\n",
      "WARNING: Ignoring invalid distribution -ensorflow-gpu (c:\\users\\navee\\appdata\\roaming\\python\\python38\\site-packages)\n",
      "WARNING: Ignoring invalid distribution -ensorflow-gpu (c:\\users\\navee\\appdata\\roaming\\python\\python38\\site-packages)\n",
      "WARNING: Ignoring invalid distribution -ensorflow-gpu (c:\\users\\navee\\appdata\\roaming\\python\\python38\\site-packages)\n"
     ]
    },
    {
     "name": "stdout",
     "output_type": "stream",
     "text": [
      "\n",
      "[notice] To update, run: python.exe -m pip install --upgrade pip\n",
      "\n",
      "[notice] A new release of pip available: 22.1.2 -> 22.2.2\n",
      "[notice] To update, run: python.exe -m pip install --upgrade pip\n"
     ]
    },
    {
     "name": "stderr",
     "output_type": "stream",
     "text": [
      "WARNING: Ignoring invalid distribution -ensorflow-gpu (c:\\users\\navee\\appdata\\roaming\\python\\python38\\site-packages)\n",
      "WARNING: Ignoring invalid distribution -ensorflow-gpu (c:\\users\\navee\\appdata\\roaming\\python\\python38\\site-packages)\n",
      "WARNING: Retrying (Retry(total=4, connect=None, read=None, redirect=None, status=None)) after connection broken by 'NewConnectionError('<pip._vendor.urllib3.connection.HTTPSConnection object at 0x000002432BD89730>: Failed to establish a new connection: [Errno 11001] getaddrinfo failed')': /simple/rdbase/\n",
      "WARNING: Retrying (Retry(total=3, connect=None, read=None, redirect=None, status=None)) after connection broken by 'NewConnectionError('<pip._vendor.urllib3.connection.HTTPSConnection object at 0x000002432BD89A00>: Failed to establish a new connection: [Errno 11001] getaddrinfo failed')': /simple/rdbase/\n",
      "WARNING: Retrying (Retry(total=2, connect=None, read=None, redirect=None, status=None)) after connection broken by 'NewConnectionError('<pip._vendor.urllib3.connection.HTTPSConnection object at 0x000002432BD89BB0>: Failed to establish a new connection: [Errno 11001] getaddrinfo failed')': /simple/rdbase/\n",
      "WARNING: Retrying (Retry(total=1, connect=None, read=None, redirect=None, status=None)) after connection broken by 'NewConnectionError('<pip._vendor.urllib3.connection.HTTPSConnection object at 0x000002432BD89D60>: Failed to establish a new connection: [Errno 11001] getaddrinfo failed')': /simple/rdbase/\n",
      "WARNING: Retrying (Retry(total=0, connect=None, read=None, redirect=None, status=None)) after connection broken by 'NewConnectionError('<pip._vendor.urllib3.connection.HTTPSConnection object at 0x000002432BD89F10>: Failed to establish a new connection: [Errno 11001] getaddrinfo failed')': /simple/rdbase/\n",
      "ERROR: Could not find a version that satisfies the requirement rdbase (from versions: none)\n",
      "ERROR: No matching distribution found for rdbase\n",
      "WARNING: Ignoring invalid distribution -ensorflow-gpu (c:\\users\\navee\\appdata\\roaming\\python\\python38\\site-packages)\n",
      "WARNING: Ignoring invalid distribution -ensorflow-gpu (c:\\users\\navee\\appdata\\roaming\\python\\python38\\site-packages)\n",
      "WARNING: Ignoring invalid distribution -ensorflow-gpu (c:\\users\\navee\\appdata\\roaming\\python\\python38\\site-packages)\n"
     ]
    },
    {
     "ename": "ImportError",
     "evalue": "DLL load failed while importing rdBase: The specified module could not be found.",
     "output_type": "error",
     "traceback": [
      "\u001b[1;31m---------------------------------------------------------------------------\u001b[0m",
      "\u001b[1;31mImportError\u001b[0m                               Traceback (most recent call last)",
      "\u001b[1;32m<ipython-input-4-45b8897d870d>\u001b[0m in \u001b[0;36m<module>\u001b[1;34m\u001b[0m\n\u001b[0;32m      2\u001b[0m \u001b[0mget_ipython\u001b[0m\u001b[1;33m(\u001b[0m\u001b[1;33m)\u001b[0m\u001b[1;33m.\u001b[0m\u001b[0msystem\u001b[0m\u001b[1;33m(\u001b[0m\u001b[1;34m'pip install rdkit'\u001b[0m\u001b[1;33m)\u001b[0m\u001b[1;33m\u001b[0m\u001b[1;33m\u001b[0m\u001b[0m\n\u001b[0;32m      3\u001b[0m \u001b[0mget_ipython\u001b[0m\u001b[1;33m(\u001b[0m\u001b[1;33m)\u001b[0m\u001b[1;33m.\u001b[0m\u001b[0msystem\u001b[0m\u001b[1;33m(\u001b[0m\u001b[1;34m'pip install rdbase'\u001b[0m\u001b[1;33m)\u001b[0m\u001b[1;33m\u001b[0m\u001b[1;33m\u001b[0m\u001b[0m\n\u001b[1;32m----> 4\u001b[1;33m \u001b[1;32mimport\u001b[0m \u001b[0mmols2grid\u001b[0m\u001b[1;33m\u001b[0m\u001b[1;33m\u001b[0m\u001b[0m\n\u001b[0m\u001b[0;32m      5\u001b[0m mols2grid.display(r\"C:\\Users\\navee\\JUPYTER NOTEBOOKS\\Graph-ML POCs\\sdf_material_files/all_GRPF_chemicals2.sdf\",\n\u001b[0;32m      6\u001b[0m                   \u001b[0msubset\u001b[0m\u001b[1;33m=\u001b[0m\u001b[1;33m[\u001b[0m\u001b[1;34m\"_Name\"\u001b[0m\u001b[1;33m,\u001b[0m \u001b[1;34m\"img\"\u001b[0m\u001b[1;33m,\u001b[0m\u001b[1;33m]\u001b[0m\u001b[1;33m,\u001b[0m\u001b[0mtooltip\u001b[0m\u001b[1;33m=\u001b[0m\u001b[1;33m[\u001b[0m\u001b[1;34m\"_Name\"\u001b[0m\u001b[1;33m,\u001b[0m \u001b[1;34m\"SMILES\"\u001b[0m\u001b[1;33m]\u001b[0m\u001b[1;33m,\u001b[0m\u001b[1;33m\u001b[0m\u001b[1;33m\u001b[0m\u001b[0m\n",
      "\u001b[1;32m~\\anaconda3\\lib\\site-packages\\mols2grid\\__init__.py\u001b[0m in \u001b[0;36m<module>\u001b[1;34m\u001b[0m\n\u001b[1;32m----> 1\u001b[1;33m \u001b[1;32mfrom\u001b[0m \u001b[1;33m.\u001b[0m\u001b[0mmolgrid\u001b[0m \u001b[1;32mimport\u001b[0m \u001b[0mMolGrid\u001b[0m\u001b[1;33m\u001b[0m\u001b[1;33m\u001b[0m\u001b[0m\n\u001b[0m\u001b[0;32m      2\u001b[0m from .dispatch import (display,\n\u001b[0;32m      3\u001b[0m                        save)\n\u001b[0;32m      4\u001b[0m from .select import (get_selection,\n\u001b[0;32m      5\u001b[0m                      list_grids)\n",
      "\u001b[1;32m~\\anaconda3\\lib\\site-packages\\mols2grid\\molgrid.py\u001b[0m in \u001b[0;36m<module>\u001b[1;34m\u001b[0m\n\u001b[0;32m      6\u001b[0m \u001b[1;32mimport\u001b[0m \u001b[0mpandas\u001b[0m \u001b[1;32mas\u001b[0m \u001b[0mpd\u001b[0m\u001b[1;33m\u001b[0m\u001b[1;33m\u001b[0m\u001b[0m\n\u001b[0;32m      7\u001b[0m \u001b[1;32mimport\u001b[0m \u001b[0mnumpy\u001b[0m \u001b[1;32mas\u001b[0m \u001b[0mnp\u001b[0m\u001b[1;33m\u001b[0m\u001b[1;33m\u001b[0m\u001b[0m\n\u001b[1;32m----> 8\u001b[1;33m \u001b[1;32mfrom\u001b[0m \u001b[0mrdkit\u001b[0m \u001b[1;32mimport\u001b[0m \u001b[0mChem\u001b[0m\u001b[1;33m\u001b[0m\u001b[1;33m\u001b[0m\u001b[0m\n\u001b[0m\u001b[0;32m      9\u001b[0m \u001b[1;32mfrom\u001b[0m \u001b[0mrdkit\u001b[0m\u001b[1;33m.\u001b[0m\u001b[0mChem\u001b[0m \u001b[1;32mimport\u001b[0m \u001b[0mDraw\u001b[0m\u001b[1;33m\u001b[0m\u001b[1;33m\u001b[0m\u001b[0m\n\u001b[0;32m     10\u001b[0m \u001b[1;32mfrom\u001b[0m \u001b[1;33m.\u001b[0m\u001b[0mwidget\u001b[0m \u001b[1;32mimport\u001b[0m \u001b[0mMolGridWidget\u001b[0m\u001b[1;33m\u001b[0m\u001b[1;33m\u001b[0m\u001b[0m\n",
      "\u001b[1;32m~\\anaconda3\\lib\\site-packages\\rdkit\\__init__.py\u001b[0m in \u001b[0;36m<module>\u001b[1;34m\u001b[0m\n\u001b[0;32m     36\u001b[0m \u001b[1;31m# Need to import rdBase to properly wrap exceptions\u001b[0m\u001b[1;33m\u001b[0m\u001b[1;33m\u001b[0m\u001b[1;33m\u001b[0m\u001b[0m\n\u001b[0;32m     37\u001b[0m \u001b[1;31m# otherwise they will leak memory\u001b[0m\u001b[1;33m\u001b[0m\u001b[1;33m\u001b[0m\u001b[1;33m\u001b[0m\u001b[0m\n\u001b[1;32m---> 38\u001b[1;33m \u001b[1;32mfrom\u001b[0m \u001b[1;33m.\u001b[0m \u001b[1;32mimport\u001b[0m \u001b[0mrdBase\u001b[0m\u001b[1;33m\u001b[0m\u001b[1;33m\u001b[0m\u001b[0m\n\u001b[0m\u001b[0;32m     39\u001b[0m \u001b[1;33m\u001b[0m\u001b[0m\n\u001b[0;32m     40\u001b[0m \u001b[1;32mtry\u001b[0m\u001b[1;33m:\u001b[0m\u001b[1;33m\u001b[0m\u001b[1;33m\u001b[0m\u001b[0m\n",
      "\u001b[1;31mImportError\u001b[0m: DLL load failed while importing rdBase: The specified module could not be found."
     ]
    }
   ],
   "source": [
    "!pip install mols2grid\n",
    "!pip install rdkit\n",
    "!pip install rdbase\n",
    "import mols2grid\n",
    "mols2grid.display(r\"C:\\Users\\navee\\JUPYTER NOTEBOOKS\\Graph-ML POCs\\sdf_material_files/all_GRPF_chemicals2.sdf\",\n",
    "                  subset=[\"_Name\", \"img\",],tooltip=[\"_Name\", \"SMILES\"],\n",
    "                  style={\"_Name\": lambda x: \"color: green; font-weight: bold;\",\n",
    "                          \"__all__\": lambda x: \"background-color: azure;font-size:12px;font-weight: bold;color: blue;\" }\n",
    "                 )"
   ]
  },
  {
   "cell_type": "code",
   "execution_count": null,
   "metadata": {},
   "outputs": [],
   "source": []
  }
 ],
 "metadata": {
  "kernelspec": {
   "display_name": "Python 3",
   "language": "python",
   "name": "python3"
  },
  "language_info": {
   "codemirror_mode": {
    "name": "ipython",
    "version": 3
   },
   "file_extension": ".py",
   "mimetype": "text/x-python",
   "name": "python",
   "nbconvert_exporter": "python",
   "pygments_lexer": "ipython3",
   "version": "3.8.5"
  }
 },
 "nbformat": 4,
 "nbformat_minor": 5
}
