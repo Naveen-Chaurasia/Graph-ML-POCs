{
 "cells": [
  {
   "cell_type": "code",
   "execution_count": 3,
   "metadata": {},
   "outputs": [
    {
     "name": "stdout",
     "output_type": "stream",
     "text": [
      "['.git', '.ipynb_checkpoints', 'all_GRPF_chemicals.sdf', 'Book1.csv', 'CarbonAtomsCount.xlsx', 'CarbonAtomsCount_.csv', 'CarbonCafe_3.csv', 'categories.graphml', 'categories1.graphml', 'gl_project_settings_20220724_163533_173.zip', 'GNN.docx', 'grphlytics.csv', 'Molecular_structures-Copy1.html', 'Molecular_structures-Copy1.ipynb', 'Molecular_structures.ipynb', 'Molecular_Structure_final.html', 'Molecular_Structure_final.ipynb', 'mols2grid.ipynb', 'NetworkX_poc.ipynb', 'Networkx_poc2.ipynb', 'New Text Document.txt', 'PieChart.html', 'Pie_Chart.html', 'poc1-football_dataset.ipynb', 'RDKIT_POCs.ipynb', 'sample_submission.csv', 'sdf_material_files', 'StackedBarChart.html', 'tensorflow_poc.ipynb', 'Transportation2.html', 'TransportationMap.html', 'Untitled-Copy1.ipynb', '~$GNN.docx']\n"
     ]
    }
   ],
   "source": [
    "import numpy as np\n",
    "import pandas as pd\n",
    "import seaborn as sns\n",
    "import matplotlib.pyplot as plt\n",
    "import warnings\n",
    "warnings.filterwarnings('ignore')\n",
    "import os\n",
    "print(os.listdir(\"../Graph-ML POCs\"))"
   ]
  },
  {
   "cell_type": "code",
   "execution_count": null,
   "metadata": {},
   "outputs": [],
   "source": []
  }
 ],
 "metadata": {
  "kernelspec": {
   "display_name": "Python 3",
   "language": "python",
   "name": "python3"
  },
  "language_info": {
   "codemirror_mode": {
    "name": "ipython",
    "version": 3
   },
   "file_extension": ".py",
   "mimetype": "text/x-python",
   "name": "python",
   "nbconvert_exporter": "python",
   "pygments_lexer": "ipython3",
   "version": "3.8.5"
  }
 },
 "nbformat": 4,
 "nbformat_minor": 4
}
