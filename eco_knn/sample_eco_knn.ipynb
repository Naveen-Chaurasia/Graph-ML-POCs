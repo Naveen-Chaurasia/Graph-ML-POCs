{
 "cells": [
  {
   "cell_type": "code",
   "execution_count": 37,
   "metadata": {},
   "outputs": [],
   "source": [
    "import numpy as nm  \n",
    "import matplotlib.pyplot as mtp  \n",
    "import pandas as pd  "
   ]
  },
  {
   "cell_type": "code",
   "execution_count": 39,
   "metadata": {},
   "outputs": [
    {
     "name": "stdout",
     "output_type": "stream",
     "text": [
      "['4-methyl-2-pentanone production'\n",
      " 'C3 hydrocarbon production, mixture, petroleum refinery operation'\n",
      " 'NMC111 oxide production, for Li-ion battery'\n",
      " 'N,N-dimethylformamide production' 'Mannheim process'\n",
      " 'NMC111 oxide production, for Li-ion battery'\n",
      " '3-methyl-1-butyl acetate production'\n",
      " 'NMC111 hydroxide production, for Li-ion battery'\n",
      " 'acrylic binder production, with water, in 54% solution state'\n",
      " 'Sohio process' '4-tert-butyltoluene production' 'Sohio process'\n",
      " '2,4-dichlorophenol production' 'Mannheim process'\n",
      " '4-tert-butyltoluene production' 'NPK (15-15-15) fertiliser production'\n",
      " 'EUR-flat pallet production' 'Sohio process'\n",
      " 'acrylic varnish production, with water, in 53% solution state'\n",
      " '3-methyl-1-butyl acetate production'\n",
      " 'C3 hydrocarbon production, mixture, petroleum refinery operation'\n",
      " '1,1-difluoroethane production, HFC-152a' '2-pyridinol production'\n",
      " '4-methyl-2-pentanone production' 'acetanilide production'\n",
      " '2-methyl-2-butanol production' 'aclonifen production'\n",
      " '4-methyl-2-pentanone production' 'NPK (15-15-15) fertiliser production'\n",
      " 'acrylic binder production, with water, in 54% solution state'\n",
      " 'adhesive production, for metal' 'adhesive production, for metal'\n",
      " 'acrylic binder production, with water, in 54% solution state'\n",
      " 'NCA hydroxide production, for Li-ion battery' 'Sohio process'\n",
      " '4-methyl-2-pentanone production' 'NPK (15-15-15) fertiliser production'\n",
      " 'acetanilide production' 'activated bentonite production'\n",
      " 'NPK (15-15-15) fertiliser production']\n"
     ]
    }
   ],
   "source": [
    "#importing datasets  \n",
    "data_set= pd.read_csv('D:\\Ardhi\\Ecoinvent\\cut-off-system-model\\sample_eco_lcia.csv')  \n",
    "  \n",
    "#Extracting Independent and dependent Variable  \n",
    "x= data_set.iloc[:,[6,7,8,9,10,11,12,13,14,15,16]].values  \n",
    "y= data_set.iloc[:,[1]].values  \n",
    "  \n",
    "#print(x)\n",
    "#print(y)\n",
    "\n",
    "from sklearn.model_selection import train_test_split  \n",
    "x_train, x_test, y_train, y_test= train_test_split(x, y, test_size= 0.25, random_state=0)  \n",
    "\n",
    "\n",
    "#feature Scaling  \n",
    "from sklearn.preprocessing import StandardScaler    \n",
    "st_x= StandardScaler()    \n",
    "x_train= st_x.fit_transform(x_train)    \n",
    "x_test= st_x.transform(x_test)  \n",
    "\n",
    "\n",
    "from sklearn.neighbors import KNeighborsClassifier  \n",
    "classifier= KNeighborsClassifier(n_neighbors=5)  \n",
    "classifier.fit(x_train, y_train.ravel())  \n",
    "\n",
    "\n",
    "y_pred= classifier.predict(x_test) \n",
    "\n",
    "print(y_pred)"
   ]
  },
  {
   "cell_type": "code",
   "execution_count": 41,
   "metadata": {},
   "outputs": [],
   "source": [
    "from sklearn.metrics import confusion_matrix  \n",
    "cm= confusion_matrix(y_test, y_pred)  "
   ]
  },
  {
   "cell_type": "code",
   "execution_count": 42,
   "metadata": {},
   "outputs": [
    {
     "name": "stdout",
     "output_type": "stream",
     "text": [
      "[[0 0 0 ... 0 0 0]\n",
      " [0 0 0 ... 0 0 0]\n",
      " [0 0 0 ... 0 0 0]\n",
      " ...\n",
      " [0 0 0 ... 0 0 0]\n",
      " [0 0 0 ... 1 0 0]\n",
      " [0 0 0 ... 0 0 0]]\n"
     ]
    }
   ],
   "source": [
    "print(cm)"
   ]
  },
  {
   "cell_type": "code",
   "execution_count": 34,
   "metadata": {},
   "outputs": [],
   "source": []
  },
  {
   "cell_type": "code",
   "execution_count": null,
   "metadata": {},
   "outputs": [],
   "source": []
  }
 ],
 "metadata": {
  "kernelspec": {
   "display_name": "Python 3",
   "language": "python",
   "name": "python3"
  },
  "language_info": {
   "codemirror_mode": {
    "name": "ipython",
    "version": 3
   },
   "file_extension": ".py",
   "mimetype": "text/x-python",
   "name": "python",
   "nbconvert_exporter": "python",
   "pygments_lexer": "ipython3",
   "version": "3.8.5"
  }
 },
 "nbformat": 4,
 "nbformat_minor": 4
}
