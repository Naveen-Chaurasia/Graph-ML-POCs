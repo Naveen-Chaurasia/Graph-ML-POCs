{
 "cells": [
  {
   "cell_type": "code",
   "execution_count": 18,
   "metadata": {
    "scrolled": true
   },
   "outputs": [
    {
     "name": "stderr",
     "output_type": "stream",
     "text": [
      "C:\\Users\\navee\\anaconda3\\lib\\site-packages\\networkx\\readwrite\\graphml.py:946: UserWarning: No key type for id marked. Using string\n",
      "  warnings.warn(f\"No key type for id {attr_id}. Using string\")\n",
      "C:\\Users\\navee\\anaconda3\\lib\\site-packages\\networkx\\readwrite\\graphml.py:946: UserWarning: No key type for id steel. Using string\n",
      "  warnings.warn(f\"No key type for id {attr_id}. Using string\")\n",
      "C:\\Users\\navee\\anaconda3\\lib\\site-packages\\networkx\\readwrite\\graphml.py:946: UserWarning: No key type for id Cu_content. Using string\n",
      "  warnings.warn(f\"No key type for id {attr_id}. Using string\")\n",
      "C:\\Users\\navee\\anaconda3\\lib\\site-packages\\networkx\\readwrite\\graphml.py:946: UserWarning: No key type for id k. Using string\n",
      "  warnings.warn(f\"No key type for id {attr_id}. Using string\")\n",
      "C:\\Users\\navee\\anaconda3\\lib\\site-packages\\networkx\\readwrite\\graphml.py:946: UserWarning: No key type for id image1. Using string\n",
      "  warnings.warn(f\"No key type for id {attr_id}. Using string\")\n",
      "C:\\Users\\navee\\anaconda3\\lib\\site-packages\\networkx\\readwrite\\graphml.py:946: UserWarning: No key type for id CRT_glass. Using string\n",
      "  warnings.warn(f\"No key type for id {attr_id}. Using string\")\n",
      "C:\\Users\\navee\\anaconda3\\lib\\site-packages\\networkx\\readwrite\\graphml.py:946: UserWarning: No key type for id pcb. Using string\n",
      "  warnings.warn(f\"No key type for id {attr_id}. Using string\")\n",
      "C:\\Users\\navee\\anaconda3\\lib\\site-packages\\networkx\\readwrite\\graphml.py:946: UserWarning: No key type for id labels. Using string\n",
      "  warnings.warn(f\"No key type for id {attr_id}. Using string\")\n",
      "C:\\Users\\navee\\anaconda3\\lib\\site-packages\\networkx\\readwrite\\graphml.py:946: UserWarning: No key type for id cu. Using string\n",
      "  warnings.warn(f\"No key type for id {attr_id}. Using string\")\n",
      "C:\\Users\\navee\\anaconda3\\lib\\site-packages\\networkx\\readwrite\\graphml.py:946: UserWarning: No key type for id plastic. Using string\n",
      "  warnings.warn(f\"No key type for id {attr_id}. Using string\")\n",
      "C:\\Users\\navee\\anaconda3\\lib\\site-packages\\networkx\\readwrite\\graphml.py:946: UserWarning: No key type for id PCB_content. Using string\n",
      "  warnings.warn(f\"No key type for id {attr_id}. Using string\")\n",
      "C:\\Users\\navee\\anaconda3\\lib\\site-packages\\networkx\\readwrite\\graphml.py:946: UserWarning: No key type for id other_metal_content. Using string\n",
      "  warnings.warn(f\"No key type for id {attr_id}. Using string\")\n",
      "C:\\Users\\navee\\anaconda3\\lib\\site-packages\\networkx\\readwrite\\graphml.py:946: UserWarning: No key type for id Flat_Panel_glass. Using string\n",
      "  warnings.warn(f\"No key type for id {attr_id}. Using string\")\n",
      "C:\\Users\\navee\\anaconda3\\lib\\site-packages\\networkx\\readwrite\\graphml.py:946: UserWarning: No key type for id Steel_content. Using string\n",
      "  warnings.warn(f\"No key type for id {attr_id}. Using string\")\n",
      "C:\\Users\\navee\\anaconda3\\lib\\site-packages\\networkx\\readwrite\\graphml.py:946: UserWarning: No key type for id name. Using string\n",
      "  warnings.warn(f\"No key type for id {attr_id}. Using string\")\n",
      "C:\\Users\\navee\\anaconda3\\lib\\site-packages\\networkx\\readwrite\\graphml.py:946: UserWarning: No key type for id other_glass. Using string\n",
      "  warnings.warn(f\"No key type for id {attr_id}. Using string\")\n",
      "C:\\Users\\navee\\anaconda3\\lib\\site-packages\\networkx\\readwrite\\graphml.py:946: UserWarning: No key type for id total_mass. Using string\n",
      "  warnings.warn(f\"No key type for id {attr_id}. Using string\")\n",
      "C:\\Users\\navee\\anaconda3\\lib\\site-packages\\networkx\\readwrite\\graphml.py:946: UserWarning: No key type for id kpc. Using string\n",
      "  warnings.warn(f\"No key type for id {attr_id}. Using string\")\n",
      "C:\\Users\\navee\\anaconda3\\lib\\site-packages\\networkx\\readwrite\\graphml.py:946: UserWarning: No key type for id label. Using string\n",
      "  warnings.warn(f\"No key type for id {attr_id}. Using string\")\n"
     ]
    },
    {
     "ename": "NetworkXError",
     "evalue": "Bad GraphML data: no key other_contents",
     "output_type": "error",
     "traceback": [
      "\u001b[1;31m---------------------------------------------------------------------------\u001b[0m",
      "\u001b[1;31mKeyError\u001b[0m                                  Traceback (most recent call last)",
      "\u001b[1;32m~\\anaconda3\\lib\\site-packages\\networkx\\readwrite\\graphml.py\u001b[0m in \u001b[0;36mdecode_data_elements\u001b[1;34m(self, graphml_keys, obj_xml)\u001b[0m\n\u001b[0;32m    885\u001b[0m             \u001b[1;32mtry\u001b[0m\u001b[1;33m:\u001b[0m\u001b[1;33m\u001b[0m\u001b[1;33m\u001b[0m\u001b[0m\n\u001b[1;32m--> 886\u001b[1;33m                 \u001b[0mdata_name\u001b[0m \u001b[1;33m=\u001b[0m \u001b[0mgraphml_keys\u001b[0m\u001b[1;33m[\u001b[0m\u001b[0mkey\u001b[0m\u001b[1;33m]\u001b[0m\u001b[1;33m[\u001b[0m\u001b[1;34m\"name\"\u001b[0m\u001b[1;33m]\u001b[0m\u001b[1;33m\u001b[0m\u001b[1;33m\u001b[0m\u001b[0m\n\u001b[0m\u001b[0;32m    887\u001b[0m                 \u001b[0mdata_type\u001b[0m \u001b[1;33m=\u001b[0m \u001b[0mgraphml_keys\u001b[0m\u001b[1;33m[\u001b[0m\u001b[0mkey\u001b[0m\u001b[1;33m]\u001b[0m\u001b[1;33m[\u001b[0m\u001b[1;34m\"type\"\u001b[0m\u001b[1;33m]\u001b[0m\u001b[1;33m\u001b[0m\u001b[1;33m\u001b[0m\u001b[0m\n",
      "\u001b[1;31mKeyError\u001b[0m: 'other_contents'",
      "\nThe above exception was the direct cause of the following exception:\n",
      "\u001b[1;31mNetworkXError\u001b[0m                             Traceback (most recent call last)",
      "\u001b[1;32m<ipython-input-18-a4a3cc3a26dd>\u001b[0m in \u001b[0;36m<module>\u001b[1;34m\u001b[0m\n\u001b[0;32m     14\u001b[0m \u001b[1;33m\u001b[0m\u001b[0m\n\u001b[0;32m     15\u001b[0m \u001b[1;31m#P=nx.read_graphml(path=\"D:\\Software\\relate-data\\dbmss\\dbms-5ee43576-9146-4e30-bb47-b20a073093f9\\import\\categories.graphml\",node_type=<class 'str'>, edge_key_type=<class 'int'>, force_multigraph=False)\u001b[0m\u001b[1;33m\u001b[0m\u001b[1;33m\u001b[0m\u001b[1;33m\u001b[0m\u001b[0m\n\u001b[1;32m---> 16\u001b[1;33m \u001b[0mP\u001b[0m\u001b[1;33m=\u001b[0m\u001b[0mnx\u001b[0m\u001b[1;33m.\u001b[0m\u001b[0mread_graphml\u001b[0m\u001b[1;33m(\u001b[0m\u001b[1;34m'categories.graphml'\u001b[0m\u001b[1;33m)\u001b[0m\u001b[1;33m\u001b[0m\u001b[1;33m\u001b[0m\u001b[0m\n\u001b[0m\u001b[0;32m     17\u001b[0m \u001b[0mnx\u001b[0m\u001b[1;33m.\u001b[0m\u001b[0mdraw\u001b[0m\u001b[1;33m(\u001b[0m\u001b[0mP\u001b[0m\u001b[1;33m,\u001b[0m\u001b[0mwith_labels\u001b[0m\u001b[1;33m=\u001b[0m\u001b[1;32mTrue\u001b[0m\u001b[1;33m)\u001b[0m\u001b[1;33m\u001b[0m\u001b[1;33m\u001b[0m\u001b[0m\n\u001b[0;32m     18\u001b[0m \u001b[1;31m#print(G)\u001b[0m\u001b[1;33m\u001b[0m\u001b[1;33m\u001b[0m\u001b[1;33m\u001b[0m\u001b[0m\n",
      "\u001b[1;32m<decorator-gen-809>\u001b[0m in \u001b[0;36mread_graphml\u001b[1;34m(path, node_type, edge_key_type, force_multigraph)\u001b[0m\n",
      "\u001b[1;32m~\\anaconda3\\lib\\site-packages\\networkx\\utils\\decorators.py\u001b[0m in \u001b[0;36m_open_file\u001b[1;34m(func_to_be_decorated, *args, **kwargs)\u001b[0m\n\u001b[0;32m    237\u001b[0m         \u001b[1;31m# Finally, we call the original function, making sure to close the fobj\u001b[0m\u001b[1;33m\u001b[0m\u001b[1;33m\u001b[0m\u001b[1;33m\u001b[0m\u001b[0m\n\u001b[0;32m    238\u001b[0m         \u001b[1;32mtry\u001b[0m\u001b[1;33m:\u001b[0m\u001b[1;33m\u001b[0m\u001b[1;33m\u001b[0m\u001b[0m\n\u001b[1;32m--> 239\u001b[1;33m             \u001b[0mresult\u001b[0m \u001b[1;33m=\u001b[0m \u001b[0mfunc_to_be_decorated\u001b[0m\u001b[1;33m(\u001b[0m\u001b[1;33m*\u001b[0m\u001b[0mnew_args\u001b[0m\u001b[1;33m,\u001b[0m \u001b[1;33m**\u001b[0m\u001b[0mkwargs\u001b[0m\u001b[1;33m)\u001b[0m\u001b[1;33m\u001b[0m\u001b[1;33m\u001b[0m\u001b[0m\n\u001b[0m\u001b[0;32m    240\u001b[0m         \u001b[1;32mfinally\u001b[0m\u001b[1;33m:\u001b[0m\u001b[1;33m\u001b[0m\u001b[1;33m\u001b[0m\u001b[0m\n\u001b[0;32m    241\u001b[0m             \u001b[1;32mif\u001b[0m \u001b[0mclose_fobj\u001b[0m\u001b[1;33m:\u001b[0m\u001b[1;33m\u001b[0m\u001b[1;33m\u001b[0m\u001b[0m\n",
      "\u001b[1;32m~\\anaconda3\\lib\\site-packages\\networkx\\readwrite\\graphml.py\u001b[0m in \u001b[0;36mread_graphml\u001b[1;34m(path, node_type, edge_key_type, force_multigraph)\u001b[0m\n\u001b[0;32m    256\u001b[0m     \u001b[0mreader\u001b[0m \u001b[1;33m=\u001b[0m \u001b[0mGraphMLReader\u001b[0m\u001b[1;33m(\u001b[0m\u001b[0mnode_type\u001b[0m\u001b[1;33m,\u001b[0m \u001b[0medge_key_type\u001b[0m\u001b[1;33m,\u001b[0m \u001b[0mforce_multigraph\u001b[0m\u001b[1;33m)\u001b[0m\u001b[1;33m\u001b[0m\u001b[1;33m\u001b[0m\u001b[0m\n\u001b[0;32m    257\u001b[0m     \u001b[1;31m# need to check for multiple graphs\u001b[0m\u001b[1;33m\u001b[0m\u001b[1;33m\u001b[0m\u001b[1;33m\u001b[0m\u001b[0m\n\u001b[1;32m--> 258\u001b[1;33m     \u001b[0mglist\u001b[0m \u001b[1;33m=\u001b[0m \u001b[0mlist\u001b[0m\u001b[1;33m(\u001b[0m\u001b[0mreader\u001b[0m\u001b[1;33m(\u001b[0m\u001b[0mpath\u001b[0m\u001b[1;33m=\u001b[0m\u001b[0mpath\u001b[0m\u001b[1;33m)\u001b[0m\u001b[1;33m)\u001b[0m\u001b[1;33m\u001b[0m\u001b[1;33m\u001b[0m\u001b[0m\n\u001b[0m\u001b[0;32m    259\u001b[0m     \u001b[1;32mif\u001b[0m \u001b[0mlen\u001b[0m\u001b[1;33m(\u001b[0m\u001b[0mglist\u001b[0m\u001b[1;33m)\u001b[0m \u001b[1;33m==\u001b[0m \u001b[1;36m0\u001b[0m\u001b[1;33m:\u001b[0m\u001b[1;33m\u001b[0m\u001b[1;33m\u001b[0m\u001b[0m\n\u001b[0;32m    260\u001b[0m         \u001b[1;31m# If no graph comes back, try looking for an incomplete header\u001b[0m\u001b[1;33m\u001b[0m\u001b[1;33m\u001b[0m\u001b[1;33m\u001b[0m\u001b[0m\n",
      "\u001b[1;32m~\\anaconda3\\lib\\site-packages\\networkx\\readwrite\\graphml.py\u001b[0m in \u001b[0;36m__call__\u001b[1;34m(self, path, string)\u001b[0m\n\u001b[0;32m    775\u001b[0m         \u001b[1;33m(\u001b[0m\u001b[0mkeys\u001b[0m\u001b[1;33m,\u001b[0m \u001b[0mdefaults\u001b[0m\u001b[1;33m)\u001b[0m \u001b[1;33m=\u001b[0m \u001b[0mself\u001b[0m\u001b[1;33m.\u001b[0m\u001b[0mfind_graphml_keys\u001b[0m\u001b[1;33m(\u001b[0m\u001b[0mself\u001b[0m\u001b[1;33m.\u001b[0m\u001b[0mxml\u001b[0m\u001b[1;33m)\u001b[0m\u001b[1;33m\u001b[0m\u001b[1;33m\u001b[0m\u001b[0m\n\u001b[0;32m    776\u001b[0m         \u001b[1;32mfor\u001b[0m \u001b[0mg\u001b[0m \u001b[1;32min\u001b[0m \u001b[0mself\u001b[0m\u001b[1;33m.\u001b[0m\u001b[0mxml\u001b[0m\u001b[1;33m.\u001b[0m\u001b[0mfindall\u001b[0m\u001b[1;33m(\u001b[0m\u001b[1;34mf\"{{{self.NS_GRAPHML}}}graph\"\u001b[0m\u001b[1;33m)\u001b[0m\u001b[1;33m:\u001b[0m\u001b[1;33m\u001b[0m\u001b[1;33m\u001b[0m\u001b[0m\n\u001b[1;32m--> 777\u001b[1;33m             \u001b[1;32myield\u001b[0m \u001b[0mself\u001b[0m\u001b[1;33m.\u001b[0m\u001b[0mmake_graph\u001b[0m\u001b[1;33m(\u001b[0m\u001b[0mg\u001b[0m\u001b[1;33m,\u001b[0m \u001b[0mkeys\u001b[0m\u001b[1;33m,\u001b[0m \u001b[0mdefaults\u001b[0m\u001b[1;33m)\u001b[0m\u001b[1;33m\u001b[0m\u001b[1;33m\u001b[0m\u001b[0m\n\u001b[0m\u001b[0;32m    778\u001b[0m \u001b[1;33m\u001b[0m\u001b[0m\n\u001b[0;32m    779\u001b[0m     \u001b[1;32mdef\u001b[0m \u001b[0mmake_graph\u001b[0m\u001b[1;33m(\u001b[0m\u001b[0mself\u001b[0m\u001b[1;33m,\u001b[0m \u001b[0mgraph_xml\u001b[0m\u001b[1;33m,\u001b[0m \u001b[0mgraphml_keys\u001b[0m\u001b[1;33m,\u001b[0m \u001b[0mdefaults\u001b[0m\u001b[1;33m,\u001b[0m \u001b[0mG\u001b[0m\u001b[1;33m=\u001b[0m\u001b[1;32mNone\u001b[0m\u001b[1;33m)\u001b[0m\u001b[1;33m:\u001b[0m\u001b[1;33m\u001b[0m\u001b[1;33m\u001b[0m\u001b[0m\n",
      "\u001b[1;32m~\\anaconda3\\lib\\site-packages\\networkx\\readwrite\\graphml.py\u001b[0m in \u001b[0;36mmake_graph\u001b[1;34m(self, graph_xml, graphml_keys, defaults, G)\u001b[0m\n\u001b[0;32m    802\u001b[0m         \u001b[1;31m# add nodes\u001b[0m\u001b[1;33m\u001b[0m\u001b[1;33m\u001b[0m\u001b[1;33m\u001b[0m\u001b[0m\n\u001b[0;32m    803\u001b[0m         \u001b[1;32mfor\u001b[0m \u001b[0mnode_xml\u001b[0m \u001b[1;32min\u001b[0m \u001b[0mgraph_xml\u001b[0m\u001b[1;33m.\u001b[0m\u001b[0mfindall\u001b[0m\u001b[1;33m(\u001b[0m\u001b[1;34mf\"{{{self.NS_GRAPHML}}}node\"\u001b[0m\u001b[1;33m)\u001b[0m\u001b[1;33m:\u001b[0m\u001b[1;33m\u001b[0m\u001b[1;33m\u001b[0m\u001b[0m\n\u001b[1;32m--> 804\u001b[1;33m             \u001b[0mself\u001b[0m\u001b[1;33m.\u001b[0m\u001b[0madd_node\u001b[0m\u001b[1;33m(\u001b[0m\u001b[0mG\u001b[0m\u001b[1;33m,\u001b[0m \u001b[0mnode_xml\u001b[0m\u001b[1;33m,\u001b[0m \u001b[0mgraphml_keys\u001b[0m\u001b[1;33m,\u001b[0m \u001b[0mdefaults\u001b[0m\u001b[1;33m)\u001b[0m\u001b[1;33m\u001b[0m\u001b[1;33m\u001b[0m\u001b[0m\n\u001b[0m\u001b[0;32m    805\u001b[0m         \u001b[1;31m# add edges\u001b[0m\u001b[1;33m\u001b[0m\u001b[1;33m\u001b[0m\u001b[1;33m\u001b[0m\u001b[0m\n\u001b[0;32m    806\u001b[0m         \u001b[1;32mfor\u001b[0m \u001b[0medge_xml\u001b[0m \u001b[1;32min\u001b[0m \u001b[0mgraph_xml\u001b[0m\u001b[1;33m.\u001b[0m\u001b[0mfindall\u001b[0m\u001b[1;33m(\u001b[0m\u001b[1;34mf\"{{{self.NS_GRAPHML}}}edge\"\u001b[0m\u001b[1;33m)\u001b[0m\u001b[1;33m:\u001b[0m\u001b[1;33m\u001b[0m\u001b[1;33m\u001b[0m\u001b[0m\n",
      "\u001b[1;32m~\\anaconda3\\lib\\site-packages\\networkx\\readwrite\\graphml.py\u001b[0m in \u001b[0;36madd_node\u001b[1;34m(self, G, node_xml, graphml_keys, defaults)\u001b[0m\n\u001b[0;32m    829\u001b[0m         \u001b[0mnode_id\u001b[0m \u001b[1;33m=\u001b[0m \u001b[0mself\u001b[0m\u001b[1;33m.\u001b[0m\u001b[0mnode_type\u001b[0m\u001b[1;33m(\u001b[0m\u001b[0mnode_xml\u001b[0m\u001b[1;33m.\u001b[0m\u001b[0mget\u001b[0m\u001b[1;33m(\u001b[0m\u001b[1;34m\"id\"\u001b[0m\u001b[1;33m)\u001b[0m\u001b[1;33m)\u001b[0m\u001b[1;33m\u001b[0m\u001b[1;33m\u001b[0m\u001b[0m\n\u001b[0;32m    830\u001b[0m         \u001b[1;31m# get data/attributes for node\u001b[0m\u001b[1;33m\u001b[0m\u001b[1;33m\u001b[0m\u001b[1;33m\u001b[0m\u001b[0m\n\u001b[1;32m--> 831\u001b[1;33m         \u001b[0mdata\u001b[0m \u001b[1;33m=\u001b[0m \u001b[0mself\u001b[0m\u001b[1;33m.\u001b[0m\u001b[0mdecode_data_elements\u001b[0m\u001b[1;33m(\u001b[0m\u001b[0mgraphml_keys\u001b[0m\u001b[1;33m,\u001b[0m \u001b[0mnode_xml\u001b[0m\u001b[1;33m)\u001b[0m\u001b[1;33m\u001b[0m\u001b[1;33m\u001b[0m\u001b[0m\n\u001b[0m\u001b[0;32m    832\u001b[0m         \u001b[0mG\u001b[0m\u001b[1;33m.\u001b[0m\u001b[0madd_node\u001b[0m\u001b[1;33m(\u001b[0m\u001b[0mnode_id\u001b[0m\u001b[1;33m,\u001b[0m \u001b[1;33m**\u001b[0m\u001b[0mdata\u001b[0m\u001b[1;33m)\u001b[0m\u001b[1;33m\u001b[0m\u001b[1;33m\u001b[0m\u001b[0m\n\u001b[0;32m    833\u001b[0m         \u001b[1;31m# get child nodes\u001b[0m\u001b[1;33m\u001b[0m\u001b[1;33m\u001b[0m\u001b[1;33m\u001b[0m\u001b[0m\n",
      "\u001b[1;32m~\\anaconda3\\lib\\site-packages\\networkx\\readwrite\\graphml.py\u001b[0m in \u001b[0;36mdecode_data_elements\u001b[1;34m(self, graphml_keys, obj_xml)\u001b[0m\n\u001b[0;32m    887\u001b[0m                 \u001b[0mdata_type\u001b[0m \u001b[1;33m=\u001b[0m \u001b[0mgraphml_keys\u001b[0m\u001b[1;33m[\u001b[0m\u001b[0mkey\u001b[0m\u001b[1;33m]\u001b[0m\u001b[1;33m[\u001b[0m\u001b[1;34m\"type\"\u001b[0m\u001b[1;33m]\u001b[0m\u001b[1;33m\u001b[0m\u001b[1;33m\u001b[0m\u001b[0m\n\u001b[0;32m    888\u001b[0m             \u001b[1;32mexcept\u001b[0m \u001b[0mKeyError\u001b[0m \u001b[1;32mas\u001b[0m \u001b[0me\u001b[0m\u001b[1;33m:\u001b[0m\u001b[1;33m\u001b[0m\u001b[1;33m\u001b[0m\u001b[0m\n\u001b[1;32m--> 889\u001b[1;33m                 \u001b[1;32mraise\u001b[0m \u001b[0mnx\u001b[0m\u001b[1;33m.\u001b[0m\u001b[0mNetworkXError\u001b[0m\u001b[1;33m(\u001b[0m\u001b[1;34mf\"Bad GraphML data: no key {key}\"\u001b[0m\u001b[1;33m)\u001b[0m \u001b[1;32mfrom\u001b[0m \u001b[0me\u001b[0m\u001b[1;33m\u001b[0m\u001b[1;33m\u001b[0m\u001b[0m\n\u001b[0m\u001b[0;32m    890\u001b[0m             \u001b[0mtext\u001b[0m \u001b[1;33m=\u001b[0m \u001b[0mdata_element\u001b[0m\u001b[1;33m.\u001b[0m\u001b[0mtext\u001b[0m\u001b[1;33m\u001b[0m\u001b[1;33m\u001b[0m\u001b[0m\n\u001b[0;32m    891\u001b[0m             \u001b[1;31m# assume anything with subelements is a yfiles extension\u001b[0m\u001b[1;33m\u001b[0m\u001b[1;33m\u001b[0m\u001b[1;33m\u001b[0m\u001b[0m\n",
      "\u001b[1;31mNetworkXError\u001b[0m: Bad GraphML data: no key other_contents"
     ]
    }
   ],
   "source": [
    "import networkx as nx\n",
    "import matplotlib.pyplot as plt\n",
    "%matplotlib inline\n",
    "\n",
    "G=nx.Graph()\n",
    "\n",
    "#adding nodes\n",
    "\n",
    "G.add_node('srm college')\n",
    "G.add_nodes_from(range(1,10))\n",
    "G.add_edge(5,100)\n",
    "\n",
    "\n",
    "\n",
    "#P=nx.read_graphml(path=\"D:\\Software\\relate-data\\dbmss\\dbms-5ee43576-9146-4e30-bb47-b20a073093f9\\import\\categories.graphml\",node_type=<class 'str'>, edge_key_type=<class 'int'>, force_multigraph=False)\n",
    "P=nx.read_graphml('categories.graphml')\n",
    "nx.draw(P,with_labels=True)\n",
    "#print(G)"
   ]
  },
  {
   "cell_type": "code",
   "execution_count": null,
   "metadata": {},
   "outputs": [],
   "source": []
  },
  {
   "cell_type": "code",
   "execution_count": null,
   "metadata": {},
   "outputs": [],
   "source": []
  }
 ],
 "metadata": {
  "kernelspec": {
   "display_name": "Python 3",
   "language": "python",
   "name": "python3"
  },
  "language_info": {
   "codemirror_mode": {
    "name": "ipython",
    "version": 3
   },
   "file_extension": ".py",
   "mimetype": "text/x-python",
   "name": "python",
   "nbconvert_exporter": "python",
   "pygments_lexer": "ipython3",
   "version": "3.8.5"
  }
 },
 "nbformat": 4,
 "nbformat_minor": 4
}
